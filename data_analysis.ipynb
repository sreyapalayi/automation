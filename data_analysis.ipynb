{
 "cells": [
  {
   "cell_type": "code",
   "execution_count": null,
   "metadata": {
    "vscode": {
     "languageId": "plaintext"
    }
   },
   "outputs": [],
   "source": [
    "# data_analysis.ipynb\n",
    "import pandas as pd\n",
    "import matplotlib.pyplot as plt\n",
    "import seaborn as sns\n",
    "\n",
    "# Load the cleaned data\n",
    "df = pd.read_csv(\"amazon_soft_toys_clean.csv\")\n",
    "df.head()\n"
   ]
  },
  {
   "cell_type": "code",
   "execution_count": null,
   "metadata": {
    "vscode": {
     "languageId": "plaintext"
    }
   },
   "outputs": [],
   "source": [
    "# Count frequency of brands and display top 5\n",
    "brand_counts = df[\"Brand\"].value_counts().head(5)\n",
    "print(\"Top 5 Brands by Frequency:\")\n",
    "print(brand_counts)\n",
    "\n",
    "# Bar Chart: Top 5 Brands by Frequency\n",
    "plt.figure(figsize=(10, 6))\n",
    "sns.barplot(x=brand_counts.index, y=brand_counts.values, palette=\"viridis\")\n",
    "plt.title(\"Top 5 Brands by Frequency\")\n",
    "plt.xlabel(\"Brand\")\n",
    "plt.ylabel(\"Count\")\n",
    "plt.savefig(\"brand_frequency_bar_chart.png\")\n",
    "plt.show()\n",
    "\n",
    "# Pie Chart: Share of Top 5 Brands\n",
    "plt.figure(figsize=(8, 8))\n",
    "plt.pie(brand_counts.values, labels=brand_counts.index, autopct='%1.1f%%', startangle=140)\n",
    "plt.title(\"Percentage Share of Top 5 Brands\")\n",
    "plt.savefig(\"brand_share_pie_chart.png\")\n",
    "plt.show()\n"
   ]
  },
  {
   "cell_type": "code",
   "execution_count": null,
   "metadata": {
    "vscode": {
     "languageId": "plaintext"
    }
   },
   "outputs": [],
   "source": [
    "# Scatter Plot: Selling Price vs. Rating\n",
    "plt.figure(figsize=(10, 6))\n",
    "sns.scatterplot(data=df, x=\"Selling Price\", y=\"Rating\", hue=\"Brand\", palette=\"deep\")\n",
    "plt.title(\"Selling Price vs Rating\")\n",
    "plt.xlabel(\"Selling Price\")\n",
    "plt.ylabel(\"Rating\")\n",
    "plt.savefig(\"price_vs_rating_scatter.png\")\n",
    "plt.show()\n",
    "\n",
    "# Average Selling Price by Rating Range\n",
    "# Create rating bins (e.g., 0-2, 2-3, 3-4, 4-5)\n",
    "df[\"Rating_bin\"] = pd.cut(df[\"Rating\"], bins=[0,2,3,4,5])\n",
    "avg_price_by_rating = df.groupby(\"Rating_bin\")[\"Selling Price\"].mean().reset_index()\n",
    "\n",
    "plt.figure(figsize=(10, 6))\n",
    "sns.barplot(data=avg_price_by_rating, x=\"Rating_bin\", y=\"Selling Price\", palette=\"magma\")\n",
    "plt.title(\"Average Selling Price by Rating Range\")\n",
    "plt.xlabel(\"Rating Range\")\n",
    "plt.ylabel(\"Average Selling Price\")\n",
    "plt.savefig(\"avg_price_by_rating_bar_chart.png\")\n",
    "plt.show()\n"
   ]
  },
  {
   "cell_type": "code",
   "execution_count": null,
   "metadata": {
    "vscode": {
     "languageId": "plaintext"
    }
   },
   "outputs": [],
   "source": [
    "# Top 5 Products by Reviews\n",
    "top_reviews = df.sort_values(by=\"Reviews\", ascending=False).head(5)\n",
    "plt.figure(figsize=(10, 6))\n",
    "sns.barplot(data=top_reviews, x=\"Title\", y=\"Reviews\", palette=\"coolwarm\")\n",
    "plt.title(\"Top 5 Products by Reviews\")\n",
    "plt.xlabel(\"Product Title\")\n",
    "plt.ylabel(\"Number of Reviews\")\n",
    "plt.xticks(rotation=45, ha=\"right\")\n",
    "plt.savefig(\"top_products_by_reviews.png\")\n",
    "plt.show()\n",
    "\n",
    "# Top 5 Products by Rating\n",
    "top_ratings = df.sort_values(by=\"Rating\", ascending=False).head(5)\n",
    "plt.figure(figsize=(10, 6))\n",
    "sns.barplot(data=top_ratings, x=\"Title\", y=\"Rating\", palette=\"summer\")\n",
    "plt.title(\"Top 5 Products by Rating\")\n",
    "plt.xlabel(\"Product Title\")\n",
    "plt.ylabel(\"Rating\")\n",
    "plt.xticks(rotation=45, ha=\"right\")\n",
    "plt.savefig(\"top_products_by_rating.png\")\n",
    "plt.show()\n"
   ]
  }
 ],
 "metadata": {
  "language_info": {
   "name": "python"
  }
 },
 "nbformat": 4,
 "nbformat_minor": 2
}
